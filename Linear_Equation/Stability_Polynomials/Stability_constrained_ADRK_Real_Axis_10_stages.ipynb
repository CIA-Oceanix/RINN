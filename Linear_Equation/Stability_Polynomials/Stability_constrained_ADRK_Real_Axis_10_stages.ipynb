{
 "cells": [
  {
   "cell_type": "markdown",
   "metadata": {},
   "source": [
    "## Test of the Stability Constrained ADRK\n",
    "\n"
   ]
  },
  {
   "cell_type": "code",
   "execution_count": 1,
   "metadata": {},
   "outputs": [],
   "source": [
    "import sys\n",
    "sys.path.append('/homes/s17ouala/Bureau/Sanssauvegarde/Complement/RINN/LearningODEIntegrationSchemes')\n",
    "from generate_data import generate_data\n",
    "import numpy as np\n",
    "from scipy.integrate import odeint\n",
    "from dynamical_models import Lorenz_63, Lorenz_96, oregonator, Adv_Dif_1D\n",
    "import matplotlib as mpl\n",
    "import matplotlib.pyplot as plt\n",
    "import torch\n",
    "import torch.nn.functional as F\n",
    "from torch.autograd import Variable\n",
    "from utils import RMSE\n",
    "from tqdm import tqdm\n",
    "import sympy as sp"
   ]
  },
  {
   "cell_type": "code",
   "execution_count": 2,
   "metadata": {},
   "outputs": [],
   "source": [
    "# generating training data\n",
    "class GD:\n",
    "    model = 'Adv_Dif_1D_Real'\n",
    "    class parameters:\n",
    "        w = -4\n",
    "        x0 = 0.5\n",
    "        t0 = 0\n",
    "    dt_integration =0.01# integration time\n",
    "    dt_states = 1 # number of integeration times between consecutive states (for xt and catalog)\n",
    "    dt_obs = 8# number of integration times between consecutive observations (for yo)\n",
    "    var_obs = np.array([0]) # indices of the observed variables\n",
    "    nb_loop_train = 10.1 # size of the catalog\n",
    "    nb_loop_test = 100 # size of the true state and noisy observations\n",
    "    sigma2_catalog = 0.0 # variance of the model error to generate the catalog\n",
    "    sigma2_obs = 2.0 # variance of the observation error to generate observation\n",
    "    \n",
    "# run the data generation\n",
    "catalog, xt, yo = generate_data(GD)\n",
    "#training data\n",
    "batch_size = catalog.true_solution[:-10-1,:].shape[0]\n",
    "X_train = np.reshape(catalog.true_solution[:-10-1,:],(int(catalog.true_solution[1:-10,:].shape[0]/batch_size),batch_size,catalog.true_solution[1:-10,:].shape[1]))\n",
    "Grad_t  = np.reshape(np.gradient(catalog.true_solution[:-10-1,0])/GD.dt_integration,(X_train.shape))\n",
    "Y_train = np.reshape(catalog.true_solution[1:-10,:],(int(catalog.true_solution[1:-10,:].shape[0]/batch_size),batch_size,catalog.true_solution[1:-10,:].shape[1]))"
   ]
  },
  {
   "cell_type": "code",
   "execution_count": 3,
   "metadata": {},
   "outputs": [
    {
     "data": {
      "text/plain": [
       "<matplotlib.legend.Legend at 0x7fe97532ead0>"
      ]
     },
     "execution_count": 3,
     "metadata": {},
     "output_type": "execute_result"
    },
    {
     "data": {
      "image/png": "[encoded data removed]",
      "text/plain": [
       "<Figure size 432x288 with 1 Axes>"
      ]
     },
     "metadata": {
      "needs_background": "light"
     },
     "output_type": "display_data"
    }
   ],
   "source": [
    "plt.plot(catalog.true_solution[:1000],label = 'True Solution')\n",
    "plt.plot(catalog.num_integration[:1000],label = 'ADAMs Integration')\n",
    "plt.plot(catalog.euler_integration[:1000],label = 'Euler Integration')\n",
    "plt.legend()"
   ]
  },
  {
   "cell_type": "code",
   "execution_count": 4,
   "metadata": {},
   "outputs": [],
   "source": [
    "#NN parameters \n",
    "params = {}\n",
    "params['lin_coef']= GD.parameters.w\n",
    "params['dim_input']=1\n",
    "params['dim_output']=1\n",
    "params['dim_observations']=1\n",
    "params['dt_integration']=GD.dt_integration\n",
    "params['ntrain']=[100,0,10000]\n",
    "params['order'] = 10\n",
    "pretrained = False\n",
    "path = None#'Lin_w=-05.pt'\n",
    "order= 10#number of stages of the runge kutta scheme"
   ]
  },
  {
   "cell_type": "code",
   "execution_count": 5,
   "metadata": {},
   "outputs": [],
   "source": [
    "np.random.seed(0)\n",
    "torch.manual_seed(0)\n",
    "class FC_net_lin(torch.nn.Module):\n",
    "        def __init__(self, params):\n",
    "            super(FC_net_lin, self).__init__()\n",
    "            self.coef_mdl =params['lin_coef']\n",
    "        def forward(self, inp):\n",
    "            \"\"\"\n",
    "            In the forward function we accept a Tensor of input data and we must return\n",
    "            a Tensor of output data. We can use Modules defined in the constructor as\n",
    "            well as arbitrary operators on Tensors.\n",
    "            \"\"\"\n",
    "            grad = self.coef_mdl*inp\n",
    "            return grad\n",
    "model =  FC_net_lin(params)\n",
    "class INT_net(torch.nn.Module):\n",
    "        def __init__(self, params):\n",
    "            super(INT_net, self).__init__()\n",
    "            a = 0.*np.tril(np.random.uniform(size=(1,order,order)),k=-1)\n",
    "            b = 0.*np.random.uniform(size=(1,order))\n",
    "            c = 0.01*np.random.uniform(size=(1,order))\n",
    "            self.a = torch.nn.Parameter(torch.from_numpy(a).double())\n",
    "            self.b = torch.nn.Parameter(torch.from_numpy(b).double())\n",
    "            self.c = torch.nn.Parameter(torch.from_numpy(c).double())\n",
    "            self.Dyn_net = model\n",
    "        def forward(self, inp, dt, order):\n",
    "            \"\"\"\n",
    "            In the forward function we accept a Tensor of input data and we must return\n",
    "            a Tensor of output data. We can use Modules defined in the constructor as\n",
    "            well as arbitrary operators on Tensors.\n",
    "            \"\"\"\n",
    "            k = [(self.Dyn_net(inp))]\n",
    "            for i in range(1,order):\n",
    "                coef_sum = torch.zeros(k[0].size())\n",
    "                for j in range(0,i):\n",
    "                    if j ==0:\n",
    "                        if i == 1:\n",
    "                            coef_sum = coef_sum + k[j]*(self.c[:,i]).expand_as(k[j])\n",
    "                        else:\n",
    "                            coef_sum = coef_sum + k[j]*(self.c[:,i]-self.a[:,i,1:i].sum(1)).expand_as(k[j])\n",
    "                    else :\n",
    "                        coef_sum = coef_sum + k[j]*self.a[:,i,j].expand_as(k[j])\n",
    "                rk_inp = inp+dt*coef_sum        \n",
    "                k.append(self.Dyn_net(rk_inp))\n",
    "            pred_sum = torch.zeros(k[0].size())\n",
    "            for i in range(0,order): \n",
    "                pred_sum = pred_sum+k[i]*self.b[:,i].expand_as(k[i])\n",
    "            pred = inp +dt*pred_sum\n",
    "            gain = pred[0,:]/(inp[0,:])\n",
    "            return pred ,k[0], gain \n",
    "modelRINN = INT_net(params)\n",
    "class applyRK_Constraints(object):\n",
    "        def __init__(self, frequency=1):\n",
    "            self.frequency = frequency\n",
    "        def __call__(self, module):\n",
    "            if hasattr(module, 'b'):\n",
    "                module.b.data = (torch.abs(module.b.data))\n",
    "                module.b.data  =  ((module.b.data) / (module.b.data).sum(1,keepdim = True).expand_as(module.b.data))\n",
    "            if hasattr(module, 'c'):\n",
    "                module.c.data = module.c.data\n",
    "                module.c.data[:,0] = 0\n",
    "                module.c.data = module.c.data.sub_(torch.min(module.c.data)).div_(torch.max(module.c.data) - torch.min(module.c.data)).sort()[0]\n",
    "            if hasattr(module, 'a'):\n",
    "                module.a.data[0,:,:] = torch.tril(module.a.data[0,:,:], diagonal=-1)\n",
    "                module.a.data[0,:,0] = module.c.data - module.a[0,:,1:].data.sum(axis = 1)\n",
    "# Defining the integration gain class and the gain optimization loss\n",
    "class Gain(torch.nn.Module):\n",
    "    def __init__(self):\n",
    "        super(Gain, self).__init__()\n",
    "        self.Pred_net_RINN = modelRINN\n",
    "\n",
    "    def forward(self, h_int):\n",
    "        a_to=self.Pred_net_RINN.a.clone()#.detach() \n",
    "        gain = 1+h_int.unsqueeze(1)*torch.bmm(torch.bmm(self.Pred_net_RINN.b.unsqueeze(0).repeat(h_int.shape[0],1,1),torch.inverse(torch.eye(a_to.shape[1])-h_int.unsqueeze(1)*a_to)),torch.ones_like(self.Pred_net_RINN.b.T).unsqueeze(0).repeat(h_int.shape[0],1,1))\n",
    "\n",
    "        #gain = 1+h_int*torch.bmm(torch.bmm(self.Pred_net_RINN.b.unsqueeze(0),torch.inverse(torch.eye(a_to.shape[1])-h_int*a_to)),torch.ones_like(self.Pred_net_RINN.b.T).unsqueeze(0))\n",
    "      \n",
    "        return gain[:,0,0]\n"
   ]
  },
  {
   "cell_type": "code",
   "execution_count": 6,
   "metadata": {},
   "outputs": [
    {
     "name": "stdout",
     "output_type": "stream",
     "text": [
      "Learning dynamical model\n"
     ]
    },
    {
     "name": "stderr",
     "output_type": "stream",
     "text": [
      "/homes/s17ouala/miniconda3/envs/DYN_ID2/lib/python3.7/site-packages/torch/nn/_reduction.py:14: UserWarning: reduction='elementwise_mean' is deprecated, please use reduction='mean' instead.\n",
      "  warnings.warn(\"reduction='elementwise_mean' is deprecated, please use reduction='mean' instead.\")\n"
     ]
    }
   ],
   "source": [
    "x = (torch.from_numpy(X_train).double())\n",
    "y = (torch.from_numpy(Y_train).double())\n",
    "z = (torch.from_numpy(Grad_t).double())\n",
    "\n",
    "modelRINN = INT_net(params)\n",
    "criterion = torch.nn.MSELoss(reduction = 'elementwise_mean')\n",
    "optimizer = torch.optim.Adam(modelRINN.parameters(), lr  = 0.01)\n",
    "clipper   = applyRK_Constraints()\n",
    "\n",
    "print ('Learning dynamical model')\n",
    "for t in range(params['ntrain'][0]):\n",
    "        for b in range(x.shape[0]):\n",
    "            # Forward pass: Compute predicted gradients by passing x to the model\n",
    "            pred ,grad , inp  = modelRINN(x[b,:,:],params['dt_integration'],params['order'])\n",
    "            pred2 ,grad , inp = modelRINN(pred,params['dt_integration'],params['order'])\n",
    "            pred3 ,grad , inp = modelRINN(pred2,params['dt_integration'],params['order'])\n",
    "            pred4 ,grad , inp = modelRINN(pred3,params['dt_integration'],params['order'])\n",
    "            # Compute and print loss\n",
    "            loss = criterion(pred, y[b,:,:])+criterion(pred2[:-1,:], pred[1:,:])+criterion(pred3[:-1,:], pred2[1:,:])+criterion(pred4[:-1,:], pred3[1:,:])\n",
    "            # Zero gradients, perform a backward pass, and update the weights.\n",
    "            optimizer.zero_grad()\n",
    "            loss.backward()\n",
    "            optimizer.step()\n",
    "            modelRINN.apply(clipper)"
   ]
  },
  {
   "cell_type": "code",
   "execution_count": 7,
   "metadata": {},
   "outputs": [],
   "source": [
    "model_int   = Gain()\n",
    "optimizer   = torch.optim.Adam(model_int.parameters(), lr = 0.1)\n",
    "scheduler = torch.optim.lr_scheduler.ReduceLROnPlateau(optimizer, patience=10000,min_lr=.00000001, verbose=True)"
   ]
  },
  {
   "cell_type": "code",
   "execution_count": 8,
   "metadata": {},
   "outputs": [],
   "source": [
    "nb_batch    = 20\n",
    "res = 0.1\n",
    "res_init = 1.0\n",
    "train_cond       = True\n",
    "train_cond_glob  = True\n",
    "count_div   = 1"
   ]
  },
  {
   "cell_type": "code",
   "execution_count": 9,
   "metadata": {},
   "outputs": [],
   "source": [
    "for g in optimizer.param_groups:\n",
    "    g['lr'] = 0.001"
   ]
  },
  {
   "cell_type": "code",
   "execution_count": null,
   "metadata": {
    "scrolled": true
   },
   "outputs": [],
   "source": [
    "model_int.Pred_net_RINN.apply(clipper)\n",
    "t = 0\n",
    "const_freq = 1\n",
    "train_cond_glob = True\n",
    "count_in_res = 0\n",
    "while train_cond_glob :\n",
    "    train_cond = True\n",
    "    h_init      = torch.arange(0,2*order**2+res_init,res_init).double()\n",
    "    h_init[np.where(h_init>=2*order**2)] = 2*order**2 - 1E-4\n",
    "    h_to_train = h_init[1:][torch.where(torch.abs(model_int(-h_init[1:].reshape(-1,1)))>0.9)[0]]\n",
    "    idxs = torch.where((h_to_train[1:] - h_to_train[:-1])>res_init+0.01)\n",
    "    idx_packs = np.concatenate((np.array(0).reshape(1),idxs[0][:].numpy()+1,np.array(-1).reshape(1)))\n",
    "    h_to_train_listed = []\n",
    "    h_to_train_listed_affined = []\n",
    "    i = 0\n",
    "    for i in range(idx_packs.shape[0]-2):\n",
    "        h_to_train_listed.append(h_to_train[idx_packs[i]:idx_packs[i+1]])\n",
    "        h_to_train_listed_affined.append(torch.arange(h_to_train_listed[-1][0],h_to_train_listed[-1][-1],res))\n",
    "    h_to_train_listed.append(h_to_train[idx_packs[i]:])\n",
    "    h_to_train_listed_affined.append(torch.arange(h_to_train_listed[-1][0]-res,h_to_train_listed[-1][-1],res))    \n",
    "    while train_cond :\n",
    "        lpb = []\n",
    "        for b in range(len(h_to_train_listed_affined)):\n",
    "            gain_op = model_int(-h_to_train_listed_affined[b].reshape(-1,1))\n",
    "            # Compute and print loss\n",
    "            loss    = torch.relu(torch.abs(gain_op)-torch.ones_like(torch.abs(gain_op))).sum()#customized_loss((gain_op), 0*gain_true)\n",
    "            # Zero gradients, perform a backward pass, and update the weights.\n",
    "            optimizer.zero_grad()\n",
    "            loss.backward(retain_graph=True)\n",
    "            optimizer.step()\n",
    "            model_int.Pred_net_RINN.apply(clipper)\n",
    "            lpb.append(loss.detach().numpy())\n",
    "        for g in optimizer.param_groups:\n",
    "            print(count_in_res,sum(lpb),res,g['lr'])\n",
    "        #print(count_in_res,sum(lpb),res)\n",
    "        scheduler.step(sum(lpb))\n",
    "        if sum(lpb) == 0:\n",
    "            train_cond = False\n",
    "            count_in_res = count_in_res+1\n",
    "            if count_in_res > 20:\n",
    "                print('refining mesh')\n",
    "                res_init = res_init/5\n",
    "                res = res/5\n",
    "                count_in_res = 0\n",
    "                if 1E-4<res<0.02:\n",
    "                    for g in optimizer.param_groups:\n",
    "                        g['lr'] = 1E-9\n",
    "                    pat = 100\n",
    "                    scheduler = torch.optim.lr_scheduler.ReduceLROnPlateau(optimizer, patience=pat,min_lr=.000000001, verbose=True)\n",
    "                elif 1E-5<res<1E-4:\n",
    "                    for g in optimizer.param_groups:\n",
    "                        g['lr'] = 1E-10\n",
    "                    pat = 100\n",
    "                    scheduler = torch.optim.lr_scheduler.ReduceLROnPlateau(optimizer, patience=pat,min_lr=1E-12,eps = 1E-16, verbose=True)\n",
    "                elif res<1E-5:\n",
    "                    for g in optimizer.param_groups:\n",
    "                        g['lr'] = 1E-10\n",
    "                    pat = 100\n",
    "                    scheduler = torch.optim.lr_scheduler.ReduceLROnPlateau(optimizer, patience=pat,min_lr=1E-12,eps = 1E-16, verbose=True)\n",
    "                else:\n",
    "                    pat = 500\n",
    "                    scheduler = torch.optim.lr_scheduler.ReduceLROnPlateau(optimizer, patience=pat,min_lr=.000000001, verbose=True)\n",
    "    if res<1E-3:#res<1E-4:\n",
    "        train_cond_glob = False"
   ]
  },
  {
   "cell_type": "code",
   "execution_count": 11,
   "metadata": {},
   "outputs": [],
   "source": [
    "#extracting integration scheme params\n",
    "a=modelRINN.a.clone().detach().data.numpy()[0,:,:]\n",
    "b=modelRINN.b.clone().detach().data.numpy()[0,:]\n",
    "c=modelRINN.c.clone().detach().data.numpy()[0,:]\n",
    "\n",
    "x1,re_w,h  = sp.symbols('x1 re_w h',real=True)\n",
    "x2,im_w    = sp.symbols('x2 im_w',real=True)\n",
    "\n",
    "xt   = sp.symbols('x1+ix2')\n",
    "lamb = re_w+sp.I*im_w"
   ]
  },
  {
   "cell_type": "code",
   "execution_count": 12,
   "metadata": {},
   "outputs": [],
   "source": [
    "rz = np.arange(-2*order**2-2,0+0.000001,0.01)\n",
    "iz = np.arange(-7.5,7.5+0.000001,0.01)\n",
    "rz, iz = np.meshgrid(rz,iz)\n",
    "z  = rz+iz*1.j"
   ]
  },
  {
   "cell_type": "code",
   "execution_count": 13,
   "metadata": {},
   "outputs": [
    {
     "name": "stderr",
     "output_type": "stream",
     "text": [
      "100%|██████████| 1501/1501 [53:14<00:00,  2.13s/it]\n"
     ]
    }
   ],
   "source": [
    "GRINN = np.zeros_like(z)*np.nan\n",
    "list_g = []\n",
    "list_x = []\n",
    "list_y = []\n",
    "gain_arg = []\n",
    "for i in tqdm(range(z.shape[0])):\n",
    "    for j in range(z.shape[1]):\n",
    "        tmp = 1+z[i,j]*np.dot(np.dot(b.T,np.linalg.inv(np.eye(a.shape[0])-z[i,j]*a)),np.ones_like(b))\n",
    "        if np.abs(tmp)<1:\n",
    "            gain_arg.append(np.angle(tmp)/np.angle(np.exp(z[i,j])))\n",
    "            GRINN[i,j] = np.abs(1+z[i,j]*np.dot(np.dot(b.T,np.linalg.inv(np.eye(a.shape[0])-z[i,j]*a)),np.ones_like(b)))\n",
    "            list_g.append(GRINN[i,j].real)\n",
    "            list_x.append(z[i,j].real)\n",
    "            list_y.append(z[i,j].imag)"
   ]
  },
  {
   "cell_type": "code",
   "execution_count": 14,
   "metadata": {},
   "outputs": [
    {
     "data": {
      "text/plain": [
       "Text(0, 0.5, '$Imag(h\\\\lambda)$')"
      ]
     },
     "execution_count": 14,
     "metadata": {},
     "output_type": "execute_result"
    },
    {
     "data": {
      "image/png": "[encoded data removed]",
      "text/plain": [
       "<Figure size 1440x1440 with 1 Axes>"
      ]
     },
     "metadata": {
      "needs_background": "light"
     },
     "output_type": "display_data"
    }
   ],
   "source": [
    "length_h = 1000\n",
    "plt.rcParams[\"mathtext.fontset\"] = \"cm\"\n",
    "plt.rcParams.update({'font.size': 42})\n",
    "plt.rcParams.update({\n",
    "    \"text.usetex\": True,\n",
    "    \"font.family\": \"sans-serif\",\n",
    "    \"font.sans-serif\": [\"Helvetica\"]})\n",
    "## for Palatino and other serif fonts use:\n",
    "plt.rcParams.update({\n",
    "    \"text.usetex\": True,\n",
    "    \"font.family\": \"serif\",\n",
    "    \"font.serif\": [\"Palatino\"],\n",
    "})\n",
    "plt.figure(figsize=(20,20))\n",
    "plt.scatter(np.array(list_x),np.array(list_y))\n",
    "plt.xlabel('$Real(h\\lambda)$')\n",
    "plt.ylabel('$Imag(h\\lambda)$')\n",
    "#plt.xlim(-7,0)\n",
    "#plt.ylim(-5,5)\n"
   ]
  }
 ],
 "metadata": {
  "anaconda-cloud": {},
  "kernelspec": {
   "display_name": "Python 3",
   "language": "python",
   "name": "python3"
  },
  "language_info": {
   "codemirror_mode": {
    "name": "ipython",
    "version": 3
   },
   "file_extension": ".py",
   "mimetype": "text/x-python",
   "name": "python",
   "nbconvert_exporter": "python",
   "pygments_lexer": "ipython3",
   "version": "3.7.4"
  }
 },
 "nbformat": 4,
 "nbformat_minor": 2
}
